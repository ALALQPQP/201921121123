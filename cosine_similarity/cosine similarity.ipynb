{
 "cells": [
  {
   "cell_type": "code",
   "execution_count": 9,
   "metadata": {
    "collapsed": true,
    "pycharm": {
     "name": "#%%\n"
    }
   },
   "outputs": [
    {
     "data": {
      "text/plain": "['今',\n '天',\n '是',\n '星',\n '期',\n '天',\n '天',\n '气',\n '晴',\n '今',\n '天',\n '晚',\n '上',\n '我',\n '要',\n '去',\n '看',\n '电',\n '影']"
     },
     "execution_count": 9,
     "metadata": {},
     "output_type": "execute_result"
    }
   ],
   "source": [
    "from typing import List\n",
    "import re\n",
    "\n",
    "def preprocess_text(text: str) -> List[str]:\n",
    "    \"\"\"\n",
    "    This function takes a string as input and returns a list of preprocessed words.\n",
    "\n",
    "    Parameters:\n",
    "    text (str): The input string.\n",
    "\n",
    "    Returns:\n",
    "    List[str]: The list of preprocessed words.\n",
    "    \"\"\"\n",
    "    # Remove all punctuations, numbers and special characters\n",
    "    text = re.sub(r'[^\\u4e00-\\u9fff]', '', text)\n",
    "\n",
    "    # Split the text into words (in this case, individual characters)\n",
    "    words = list(text)\n",
    "\n",
    "    return words\n",
    "\n",
    "# Testing the function\n",
    "test_text = \"今天是星期天，天气晴，今天晚上我要去看电影。\"\n",
    "preprocessed_words = preprocess_text(test_text)\n",
    "preprocessed_words\n"
   ]
  },
  {
   "cell_type": "code",
   "execution_count": 10,
   "outputs": [
    {
     "name": "stdout",
     "output_type": "stream",
     "text": [
      "90.74%\n"
     ]
    }
   ],
   "source": [
    "from collections import Counter\n",
    "import numpy as np\n",
    "\n",
    "def calculate_cosine_similarity(doc1_words: List[str], doc2_words: List[str]) -> str:\n",
    "    \"\"\"\n",
    "    This function takes two lists of words (representing two documents) as input and returns the cosine similarity\n",
    "    between the two documents.\n",
    "\n",
    "    Parameters:\n",
    "    doc1_words (List[str]): The list of words from document 1.\n",
    "    doc2_words (List[str]): The list of words from document 2.\n",
    "\n",
    "    Returns:\n",
    "    str: The cosine similarity between the two documents in percentage format.\n",
    "    \"\"\"\n",
    "    # Create the word frequency dictionaries for both documents\n",
    "    doc1_word_freq = Counter(doc1_words)\n",
    "    doc2_word_freq = Counter(doc2_words)\n",
    "\n",
    "    # Get the set of all words\n",
    "    all_words = set(doc1_word_freq.keys()).union(set(doc2_word_freq.keys()))\n",
    "\n",
    "    # Create the word vectors\n",
    "    doc1_vector = np.array([doc1_word_freq.get(word, 0) for word in all_words])\n",
    "    doc2_vector = np.array([doc2_word_freq.get(word, 0) for word in all_words])\n",
    "\n",
    "    # Calculate the cosine similarity\n",
    "    cosine_similarity = np.dot(doc1_vector, doc2_vector) / (np.linalg.norm(doc1_vector) * np.linalg.norm(doc2_vector))\n",
    "\n",
    "    # Convert to percentage format\n",
    "    cosine_similarity_percentage = cosine_similarity * 100\n",
    "\n",
    "    return cosine_similarity_percentage\n",
    "\n",
    "# Testing the function\n",
    "doc1_words = preprocess_text(test_text)\n",
    "doc2_words = preprocess_text(\"今天是周天，天气晴朗，我晚上要去看电影。\")\n",
    "similarity_percentage = calculate_cosine_similarity(doc1_words, doc2_words)\n",
    "print(\"{:.2f}%\".format(similarity_percentage))\n"
   ],
   "metadata": {
    "collapsed": false,
    "pycharm": {
     "name": "#%%\n"
    }
   }
  },
  {
   "cell_type": "code",
   "execution_count": 11,
   "outputs": [],
   "source": [
    "import argparse\n",
    "\n",
    "def main():\n",
    "    # Initialize the parser\n",
    "    parser = argparse.ArgumentParser(description=\"Calculate the similarity rate between two documents.\")\n",
    "\n",
    "    # Add the command line arguments\n",
    "    parser.add_argument(\"orig_file_path\", help=\"The absolute path to the original text file.\")\n",
    "    parser.add_argument(\"copy_file_path\", help=\"The absolute path to the copied text file.\")\n",
    "    parser.add_argument(\"output_file_path\", help=\"The absolute path to the output answer file.\")\n",
    "\n",
    "    # Parse the arguments\n",
    "    args = parser.parse_args()\n",
    "\n",
    "    # Read the contents of the original and copied text files\n",
    "    with open(args.orig_file_path, 'r', encoding='utf-8') as orig_file, open(args.copy_file_path, 'r', encoding='utf-8') as copy_file:\n",
    "        orig_text = orig_file.read()\n",
    "        copy_text = copy_file.read()\n",
    "\n",
    "    # Preprocess the texts\n",
    "    orig_words = preprocess_text(orig_text)\n",
    "    copy_words = preprocess_text(copy_text)\n",
    "\n",
    "    # Calculate the cosine similarity\n",
    "    similarity_rate = calculate_cosine_similarity(orig_words, copy_words)\n",
    "\n",
    "    # Write the similarity rate to the output file\n",
    "    with open(args.output_file_path, 'w', encoding='utf-8') as output_file:\n",
    "        output_file.write(f\"{similarity_rate:.2f}\")\n",
    "\n",
    "# Uncomment the following line to allow command line execution\n",
    "# if __name__ == \"__main__\":\n",
    "#     main()\n"
   ],
   "metadata": {
    "collapsed": false,
    "pycharm": {
     "name": "#%%\n"
    }
   }
  },
  {
   "cell_type": "code",
   "execution_count": 12,
   "outputs": [],
   "source": [
    "# Creating the test files with original and copied text\n",
    "orig_text_content = \"今天是星期天，天气晴，今天晚上我要去看电影。\"\n",
    "copy_text_content = \"今天是周天，天气晴朗，我晚上要去看电影。\"\n",
    "\n",
    "# Paths to the test files\n",
    "orig_file_path = 'original_text.txt'\n",
    "copy_file_path = 'copied_text.txt'\n",
    "output_file_path = 'output_similarity.txt'\n",
    "\n",
    "# Writing the content to the test files\n",
    "with open(orig_file_path, 'w', encoding='utf-8') as orig_file, open(copy_file_path, 'w', encoding='utf-8') as copy_file:\n",
    "    orig_file.write(orig_text_content)\n",
    "    copy_file.write(copy_text_content)\n"
   ],
   "metadata": {
    "collapsed": false,
    "pycharm": {
     "name": "#%%\n"
    }
   }
  },
  {
   "cell_type": "code",
   "execution_count": 13,
   "outputs": [],
   "source": [
    "# Modifying the main function to accept parameters instead of command line arguments for testing in this environment\n",
    "def main(orig_file_path, copy_file_path, output_file_path):\n",
    "    # Read the contents of the original and copied text files\n",
    "    with open(orig_file_path, 'r', encoding='utf-8') as orig_file, open(copy_file_path, 'r', encoding='utf-8') as copy_file:\n",
    "        orig_text = orig_file.read()\n",
    "        copy_text = copy_file.read()\n",
    "\n",
    "    # Preprocess the texts\n",
    "    orig_words = preprocess_text(orig_text)\n",
    "    copy_words = preprocess_text(copy_text)\n",
    "\n",
    "    # Calculate the cosine similarity\n",
    "    similarity_rate = calculate_cosine_similarity(orig_words, copy_words)\n",
    "\n",
    "    # Write the similarity rate to the output file\n",
    "    with open(output_file_path, 'w', encoding='utf-8') as output_file:\n",
    "        output_file.write(f\"{similarity_rate:.2f}\")\n",
    "\n",
    "# Manually calling the main function with the paths to the test files\n",
    "main(orig_file_path, copy_file_path, output_file_path)"
   ],
   "metadata": {
    "collapsed": false,
    "pycharm": {
     "name": "#%%\n"
    }
   }
  },
  {
   "cell_type": "code",
   "execution_count": 18,
   "outputs": [
    {
     "name": "stdout",
     "output_type": "stream",
     "text": [
      "90.74%\n"
     ]
    }
   ],
   "source": [
    "# Reading the content of the output file\n",
    "with open(output_file_path, 'r', encoding='utf-8') as output_file:\n",
    "    similarity_rate = float(output_file.read())\n",
    "\n",
    "# Converting to percentage format\n",
    "similarity_rate_percentage = \"{:.2f}%\".format(similarity_rate)\n",
    "\n",
    "print(similarity_rate_percentage)\n"
   ],
   "metadata": {
    "collapsed": false,
    "pycharm": {
     "name": "#%%\n"
    }
   }
  }
 ],
 "metadata": {
  "kernelspec": {
   "display_name": "Python 3",
   "language": "python",
   "name": "python3"
  },
  "language_info": {
   "codemirror_mode": {
    "name": "ipython",
    "version": 2
   },
   "file_extension": ".py",
   "mimetype": "text/x-python",
   "name": "python",
   "nbconvert_exporter": "python",
   "pygments_lexer": "ipython2",
   "version": "2.7.6"
  }
 },
 "nbformat": 4,
 "nbformat_minor": 0
}